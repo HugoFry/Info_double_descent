{
 "cells": [
  {
   "cell_type": "code",
   "execution_count": 19,
   "metadata": {},
   "outputs": [
    {
     "name": "stdout",
     "output_type": "stream",
     "text": [
      "Using the following device: cuda!\n"
     ]
    },
    {
     "name": "stderr",
     "output_type": "stream",
     "text": [
      "100%|██████████| 24/24 [00:00<00:00, 58.03it/s]\n"
     ]
    }
   ],
   "source": [
    "import sys\n",
    "sys.path.append('../src')\n",
    "\n",
    "from training import train\n",
    "from models import transformer\n",
    "import datasets\n",
    "import torch\n",
    "import os\n",
    "import re\n",
    "import numpy as np\n",
    "import plotly.express as px\n",
    "\n",
    "\n",
    "def get_checkpoint_epochs(path):\n",
    "    checkpoint_files = [f for f in os.listdir(path)]\n",
    "    epochs = []\n",
    "    epoch_pattern = re.compile(r'epoch_(\\d+)')\n",
    "    for file in checkpoint_files:\n",
    "        match = epoch_pattern.search(file)\n",
    "        if match:\n",
    "            epoch = int(match.group(1))\n",
    "            epochs.append(epoch)\n",
    "    return epochs\n",
    "\n",
    "def get_model_and_optimizer(checkpoint_dir, epoch):\n",
    "    checkpoint_dict = torch.load(f'{checkpoint_dir}/epoch_{epoch}')\n",
    "    model_config = checkpoint_dict['config']\n",
    "    model_state_dict = checkpoint_dict['model']\n",
    "    optimizer_state_dict = checkpoint_dict['optimizer']\n",
    "    model = transformer.Transformer(model_config)\n",
    "    model.load_state_dict(model_state_dict)\n",
    "    optimizer = torch.optim.AdamW(model.parameters(), lr = model.config.lr, weight_decay = model.config.weight_decay, betas=model.config.betas)\n",
    "    optimizer.load_state_dict(optimizer_state_dict)    \n",
    "    return model, optimizer\n",
    "\n",
    "checkpoint_dir = '../src/checkpoints'\n",
    "epochs = get_checkpoint_epochs(checkpoint_dir)\n",
    "epochs.sort()\n",
    "epoch = epochs[0]\n",
    "model, optimizer = get_model_and_optimizer(checkpoint_dir, epoch)\n",
    "\n",
    "number_of_epochs_until_spike = 24\n",
    "train_dataloader, test_dataloader = datasets.modular_addition.generate_test_train_split(model.config.prime, model.config.frac_train, model.config.seed)\n",
    "model.config.wandb = False\n",
    "model.config.save_checkpoints = False\n",
    "model.config.num_epochs = number_of_epochs_until_spike\n",
    "train.train(model, train_dataloader, test_dataloader)\n",
    "\n"
   ]
  },
  {
   "cell_type": "code",
   "execution_count": 20,
   "metadata": {},
   "outputs": [
    {
     "name": "stdout",
     "output_type": "stream",
     "text": [
      "Using the following device: cuda!\n"
     ]
    },
    {
     "name": "stderr",
     "output_type": "stream",
     "text": [
      "  0%|          | 0/23 [00:00<?, ?it/s]"
     ]
    },
    {
     "name": "stderr",
     "output_type": "stream",
     "text": [
      "100%|██████████| 23/23 [00:00<00:00, 70.90it/s]"
     ]
    },
    {
     "name": "stdout",
     "output_type": "stream",
     "text": [
      "Batch dim causing max error in the first prediction: 2985\n",
      "Index of label causing max error in the first prediction: 51\n",
      "Batch dim causing max error in the second prediction: 3680\n",
      "Index of label causing max error in the second prediction: 22\n",
      "\n",
      "\n",
      "\n",
      "\n",
      "Input: tensor([ 73,  62, 113], device='cuda:0')\n",
      "Label: 22\n",
      "\n",
      "First prediction: 22\n",
      "Probability of correct label: 0.9998949766159058\n",
      "Probability of incorrect label: 6.114076677476987e-05\n",
      "\n",
      "Second prediction: 51\n",
      "Probability of correct label: 2.914002470788546e-05\n",
      "Probability of incorrect label: 0.9972339272499084\n"
     ]
    },
    {
     "name": "stderr",
     "output_type": "stream",
     "text": [
      "\n"
     ]
    }
   ],
   "source": [
    "\n",
    "device = 'cuda' if torch.cuda.is_available() else 'cpu'\n",
    "for batch_data in train_dataloader:\n",
    "    batch_input = batch_data['data'].to(device)\n",
    "    batch_labels = batch_data['label'].to(device)\n",
    "    output = model(batch_input)\n",
    "    train_loss = train.get_full_loss(output, batch_labels).detach()\n",
    "\n",
    "data_point = torch.argmax(train_loss).item()\n",
    "\n",
    "for batch_data in train_dataloader:\n",
    "    corrupt_input = batch_data['data'].to(device)[data_point].unsqueeze(0)\n",
    "    corupt_label = batch_data['label'].to(device)[data_point].unsqueeze(0)\n",
    "    \n",
    "second_probs = torch.nn.functional.softmax(model(corrupt_input).squeeze()[-1], dim = 0)\n",
    "second_prediction = torch.argmax(second_probs).item()\n",
    "\n",
    "model, optimizer = get_model_and_optimizer(checkpoint_dir, epoch)\n",
    "model.config.wandb = False\n",
    "model.config.save_checkpoints = False\n",
    "model.config.num_epochs = number_of_epochs_until_spike - 1\n",
    "train.train(model, train_dataloader, test_dataloader)\n",
    "\n",
    "for batch_data in train_dataloader:\n",
    "    batch_input = batch_data['data'].to(device)\n",
    "    batch_labels = batch_data['label'].to(device)\n",
    "    output = model(batch_input)\n",
    "    train_loss = train.get_full_loss(output, batch_labels).detach()\n",
    "    print(f'Batch dim causing max error in the first prediction: {torch.argmax(train_loss).item()}')\n",
    "    print(f'Index of label causing max error in the first prediction: {batch_data['label'].to(device)[torch.argmax(train_loss).item()]}')\n",
    "    print(f'Batch dim causing max error in the second prediction: {data_point}')\n",
    "    print(f'Index of label causing max error in the second prediction: {corupt_label.squeeze()}')\n",
    "    \n",
    "\n",
    "first_probs = torch.nn.functional.softmax(model(corrupt_input).squeeze()[-1], dim = 0)\n",
    "first_prediction = torch.argmax(first_probs).item()\n",
    "\n",
    "print('\\n'*3)\n",
    "print(f'Input: {corrupt_input.squeeze()}')\n",
    "print(f'Label: {corupt_label.squeeze()}')\n",
    "print()\n",
    "print(f'First prediction: {corupt_label.squeeze().item()}')\n",
    "print(f'Probability of correct label: {first_probs[corupt_label.squeeze().item()]}')\n",
    "print(f'Probability of incorrect label: {first_probs[second_prediction]}')\n",
    "print()\n",
    "print(f'Second prediction: {second_prediction}')\n",
    "print(f'Probability of correct label: {second_probs[corupt_label.squeeze().item()]}')\n",
    "print(f'Probability of incorrect label: {second_probs[second_prediction]}')"
   ]
  }
 ],
 "metadata": {
  "kernelspec": {
   "display_name": "info-double-descent",
   "language": "python",
   "name": "python3"
  },
  "language_info": {
   "codemirror_mode": {
    "name": "ipython",
    "version": 3
   },
   "file_extension": ".py",
   "mimetype": "text/x-python",
   "name": "python",
   "nbconvert_exporter": "python",
   "pygments_lexer": "ipython3",
   "version": "3.12.3"
  }
 },
 "nbformat": 4,
 "nbformat_minor": 2
}
