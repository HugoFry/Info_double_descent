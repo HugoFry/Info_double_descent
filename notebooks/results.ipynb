{
 "cells": [
  {
   "cell_type": "code",
   "execution_count": 1,
   "metadata": {},
   "outputs": [
    {
     "name": "stdout",
     "output_type": "stream",
     "text": [
      "Transformer(\n",
      "  (embed): Embed(\n",
      "    (embedding): Embedding(114, 128)\n",
      "  )\n",
      "  (pos_embed): PosEmbed()\n",
      "  (layers): Sequential(\n",
      "    (0): TransformerBlock(\n",
      "      (ln1): LayerNorm()\n",
      "      (attention): Attention(\n",
      "        (hook_k): HookPoint()\n",
      "        (hook_q): HookPoint()\n",
      "        (hook_v): HookPoint()\n",
      "        (hook_z): HookPoint()\n",
      "        (hook_attention_pre): HookPoint()\n",
      "        (hook_attention): HookPoint()\n",
      "      )\n",
      "      (ln2): LayerNorm()\n",
      "      (mlp): MLP(\n",
      "        (encoder): Linear(in_features=128, out_features=512, bias=True)\n",
      "        (activation_fn): ReLU()\n",
      "        (decoder): Linear(in_features=512, out_features=128, bias=True)\n",
      "        (hook_pre): HookPoint()\n",
      "        (hook_post): HookPoint()\n",
      "      )\n",
      "      (hook_resid_pre): HookPoint()\n",
      "      (hook_resid_mid): HookPoint()\n",
      "      (hook_resid_post): HookPoint()\n",
      "      (hook_attn_out): HookPoint()\n",
      "      (hook_mlp_out): HookPoint()\n",
      "    )\n",
      "  )\n",
      "  (unembed): Unembed(\n",
      "    (unembedding): Linear(in_features=128, out_features=114, bias=False)\n",
      "    (acivation_function): Softmax(dim=None)\n",
      "  )\n",
      ")\n"
     ]
    }
   ],
   "source": [
    "import sys\n",
    "sys.path.append('../src')\n",
    "import models\n",
    "\n",
    "example_config = models.config.transformer_config()\n",
    "example_model = models.transformer.Transformer(example_config)\n",
    "\n",
    "print(example_model)"
   ]
  }
 ],
 "metadata": {
  "kernelspec": {
   "display_name": "base",
   "language": "python",
   "name": "python3"
  },
  "language_info": {
   "codemirror_mode": {
    "name": "ipython",
    "version": 3
   },
   "file_extension": ".py",
   "mimetype": "text/x-python",
   "name": "python",
   "nbconvert_exporter": "python",
   "pygments_lexer": "ipython3",
   "version": "3.12.3"
  }
 },
 "nbformat": 4,
 "nbformat_minor": 2
}
